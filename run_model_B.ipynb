{
 "cells": [
  {
   "cell_type": "code",
   "execution_count": 1,
   "id": "64d630da-e060-4382-93d3-1371adb12222",
   "metadata": {},
   "outputs": [],
   "source": [
    "import pyqg\n",
    "import icechunk as ic\n",
    "import xarray as xr\n",
    "import zarr\n",
    "import threading\n",
    "import queue\n"
   ]
  },
  {
   "cell_type": "code",
   "execution_count": 2,
   "id": "6c7b8e01-3d3f-4289-9fb9-e7ae60ab1d07",
   "metadata": {},
   "outputs": [
    {
     "data": {
      "text/plain": [
       "<icechunk.repository.Repository at 0x7ff320f94550>"
      ]
     },
     "execution_count": 2,
     "metadata": {},
     "output_type": "execute_result"
    }
   ],
   "source": [
    "storage = ic.s3_storage(\n",
    "    bucket=\"icechunk-test\",\n",
    "    prefix=\"dvc-webinar/pyqg-demo-2/\",\n",
    ")\n",
    "repo = ic.Repository.open(storage)\n",
    "repo"
   ]
  },
  {
   "cell_type": "code",
   "execution_count": 3,
   "id": "45e0ee13-118a-4dff-91e4-bbc2ee65509e",
   "metadata": {},
   "outputs": [
    {
     "data": {
      "text/plain": [
       "'beta=30,rd=15'"
      ]
     },
     "execution_count": 3,
     "metadata": {},
     "output_type": "execute_result"
    }
   ],
   "source": [
    "beta = beta=3.0e-11\n",
    "rd = 15000.0\n",
    "run_name = f'beta={int(beta * 1e12)},rd={int(rd / 1000)}'\n",
    "run_name"
   ]
  },
  {
   "cell_type": "code",
   "execution_count": 4,
   "id": "3e43bb8a-2b78-4c31-9e28-f8f89fa77a37",
   "metadata": {},
   "outputs": [
    {
     "name": "stderr",
     "output_type": "stream",
     "text": [
      "INFO:  Logger initialized\n",
      "INFO: Step: 10000, Time: 7.20e+07, KE: 2.88e-05, CFL: 0.019\n",
      "INFO: Step: 20000, Time: 1.44e+08, KE: 2.05e-04, CFL: 0.062\n",
      "INFO: Step: 30000, Time: 2.16e+08, KE: 2.27e-04, CFL: 0.071\n",
      "INFO: Step: 40000, Time: 2.88e+08, KE: 2.11e-04, CFL: 0.061\n"
     ]
    }
   ],
   "source": [
    "year = 24*60*60*360.\n",
    "m = pyqg.QGModel(\n",
    "    beta=beta, rd=rd,\n",
    "    tmax=10*year, twrite=10000,\n",
    "    tavestart=1e99 # never average\n",
    ")\n",
    "m.run()"
   ]
  },
  {
   "cell_type": "code",
   "execution_count": 5,
   "id": "712cbac5-a1b0-4b53-a4b6-5674cd711461",
   "metadata": {},
   "outputs": [],
   "source": [
    "vars_to_keep = ['q']"
   ]
  },
  {
   "cell_type": "code",
   "execution_count": 6,
   "id": "af3672be-c3e9-4096-b099-21ab4954c0ea",
   "metadata": {},
   "outputs": [
    {
     "data": {
      "text/plain": [
       "'G8RVTE5KRR4MG646QHJ0'"
      ]
     },
     "execution_count": 6,
     "metadata": {},
     "output_type": "execute_result"
    }
   ],
   "source": [
    "ds = m.to_dataset()\n",
    "session = repo.writable_session(\"main\")\n",
    "ds[vars_to_keep].to_zarr(session.store, group=run_name, zarr_format=3, consolidated=False)\n",
    "session.commit(f\"{run_name} - wrote initial snapshot @ t={m.t}\")"
   ]
  },
  {
   "cell_type": "code",
   "execution_count": 8,
   "id": "8a90e64c-5bcd-49bf-82bd-0397fabd9629",
   "metadata": {},
   "outputs": [
    {
     "name": "stderr",
     "output_type": "stream",
     "text": [
      "INFO: Step: 120000, Time: 8.64e+08, KE: 2.14e-04, CFL: 0.062\n",
      "INFO: Step: 130000, Time: 9.36e+08, KE: 2.26e-04, CFL: 0.068\n",
      "INFO: Step: 140000, Time: 1.01e+09, KE: 2.26e-04, CFL: 0.063\n",
      "INFO: Step: 150000, Time: 1.08e+09, KE: 2.04e-04, CFL: 0.067\n",
      "INFO: Step: 160000, Time: 1.15e+09, KE: 2.23e-04, CFL: 0.071\n",
      "INFO: Step: 170000, Time: 1.22e+09, KE: 2.23e-04, CFL: 0.069\n",
      "INFO: Step: 180000, Time: 1.30e+09, KE: 2.48e-04, CFL: 0.068\n"
     ]
    },
    {
     "name": "stdout",
     "output_type": "stream",
     "text": [
      "1\n"
     ]
    },
    {
     "data": {
      "text/plain": [
       "'9Q44QH2W8650B62R48KG'"
      ]
     },
     "execution_count": 8,
     "metadata": {},
     "output_type": "execute_result"
    }
   ],
   "source": [
    "NSAMPLES=200\n",
    "\n",
    "q = queue.Queue()\n",
    "lock = threading.Lock()\n",
    "\n",
    "def worker():\n",
    "    while True:\n",
    "        (ds, store, group_name) = q.get()\n",
    "        # lock is probably unncessary\n",
    "        with lock:\n",
    "            ds.to_zarr(store, group=group_name, zarr_format=3, consolidated=False, append_dim=\"time\")\n",
    "        q.task_done()\n",
    "\n",
    "# Turn-on the worker thread.\n",
    "threading.Thread(target=worker, daemon=True).start()\n",
    "\n",
    "session = repo.writable_session(\"main\")\n",
    "\n",
    "tsnapint = 24*60*60 * 30\n",
    "m.tmax += NSAMPLES * tsnapint\n",
    "\n",
    "for _ in m.run_with_snapshots(tsnapint=tsnapint):\n",
    "    q.put((m.to_dataset()[vars_to_keep], session.store, run_name))\n",
    "\n",
    "print(q.qsize())\n",
    "q.join()\n",
    "\n",
    "session.rebase(ic.ConflictDetector())\n",
    "session.commit(f\"{run_name} wrote data\")"
   ]
  },
  {
   "cell_type": "code",
   "execution_count": null,
   "id": "8877535c-e8f1-4906-998a-399e522c24bc",
   "metadata": {},
   "outputs": [],
   "source": [
    "session = repo.readonly_session(branch=\"main\")\n",
    "ds = xr.open_dataset(session.store, group=run_name, engine=\"zarr\", zarr_format=3, consolidated=False)\n",
    "ds"
   ]
  },
  {
   "cell_type": "code",
   "execution_count": 10,
   "id": "667bbf06-8274-4b32-a6f2-107af8e2a64a",
   "metadata": {},
   "outputs": [
    {
     "data": {
      "text/plain": [
       "[SnapshotInfo(id=\"9Q44QH2W8650B62R48KG\", parent_id=\"F3JVZWAZA851WC6G70S0\", written_at=datetime.datetime(2025,2,18,18,47,32,745213, tzinfo=datetime.timezone.utc), message=\"beta=30,rd...\"),\n",
       " SnapshotInfo(id=\"F3JVZWAZA851WC6G70S0\", parent_id=\"05MT43VT7MMJP30G4BGG\", written_at=datetime.datetime(2025,2,18,18,47,5,114833, tzinfo=datetime.timezone.utc), message=\"beta=30,rd...\"),\n",
       " SnapshotInfo(id=\"05MT43VT7MMJP30G4BGG\", parent_id=\"G8RVTE5KRR4MG646QHJ0\", written_at=datetime.datetime(2025,2,18,18,46,43,150782, tzinfo=datetime.timezone.utc), message=\"beta=15,rd...\"),\n",
       " SnapshotInfo(id=\"G8RVTE5KRR4MG646QHJ0\", parent_id=\"1VQAD5AFG6HHRNBH4PHG\", written_at=datetime.datetime(2025,2,18,18,46,42,24310, tzinfo=datetime.timezone.utc), message=\"beta=30,rd...\"),\n",
       " SnapshotInfo(id=\"1VQAD5AFG6HHRNBH4PHG\", parent_id=\"BA338MZRMR4XZMQHSJ60\", written_at=datetime.datetime(2025,2,18,18,46,9,112293, tzinfo=datetime.timezone.utc), message=\"beta=15,rd...\"),\n",
       " SnapshotInfo(id=\"BA338MZRMR4XZMQHSJ60\", parent_id=\"PPMBH8J5QJD01GK20F10\", written_at=datetime.datetime(2025,2,18,18,45,45,398977, tzinfo=datetime.timezone.utc), message=\"beta=15,rd...\"),\n",
       " SnapshotInfo(id=\"PPMBH8J5QJD01GK20F10\", parent_id=\"8ZX7W0ZXYE2AZSSSP2NG\", written_at=datetime.datetime(2025,2,18,18,45,0,329771, tzinfo=datetime.timezone.utc), message=\"created_ro...\"),\n",
       " SnapshotInfo(id=\"8ZX7W0ZXYE2AZSSSP2NG\", parent_id=None, written_at=datetime.datetime(2025,2,18,18,44,57,587541, tzinfo=datetime.timezone.utc), message=\"Repository...\")]"
      ]
     },
     "execution_count": 10,
     "metadata": {},
     "output_type": "execute_result"
    }
   ],
   "source": [
    "repo.ancestry(branch=\"main\")"
   ]
  },
  {
   "cell_type": "code",
   "execution_count": null,
   "id": "f9c77daf-e2e9-4d7d-8b55-dbe95e55fbe5",
   "metadata": {},
   "outputs": [],
   "source": []
  }
 ],
 "metadata": {
  "kernelspec": {
   "display_name": "Python [conda env:pyqg]",
   "language": "python",
   "name": "conda-env-pyqg-py"
  },
  "language_info": {
   "codemirror_mode": {
    "name": "ipython",
    "version": 3
   },
   "file_extension": ".py",
   "mimetype": "text/x-python",
   "name": "python",
   "nbconvert_exporter": "python",
   "pygments_lexer": "ipython3",
   "version": "3.11.11"
  }
 },
 "nbformat": 4,
 "nbformat_minor": 5
}
