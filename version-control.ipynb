{
 "cells": [
  {
   "cell_type": "markdown",
   "id": "ec6a10a5-760e-49fc-a0a3-12db4c7fae3f",
   "metadata": {},
   "source": [
    "# Version Control with Icechunk"
   ]
  },
  {
   "cell_type": "code",
   "execution_count": 1,
   "id": "ef2e47a1-b812-4d00-9ab0-73bd68b4b5eb",
   "metadata": {},
   "outputs": [],
   "source": [
    "import numpy as np\n",
    "import zarr\n",
    "import icechunk as ic"
   ]
  },
  {
   "cell_type": "markdown",
   "id": "b68d9163-9a42-4a09-a141-bfd1326e4511",
   "metadata": {},
   "source": [
    "### Create a new Icechunk *Repository*"
   ]
  },
  {
   "cell_type": "code",
   "execution_count": 2,
   "id": "c527a745-6c4c-4fdb-8bba-9a7c08a3249d",
   "metadata": {},
   "outputs": [
    {
     "data": {
      "text/plain": [
       "<icechunk.repository.Repository at 0x7f6ec4118250>"
      ]
     },
     "execution_count": 2,
     "metadata": {},
     "output_type": "execute_result"
    }
   ],
   "source": [
    "storage = ic.s3_storage(\n",
    "    bucket=\"icechunk-test\",\n",
    "    prefix=\"dvc-webinar/version-control-demo\",\n",
    ")\n",
    "repo = ic.Repository.create(storage)\n",
    "repo"
   ]
  },
  {
   "cell_type": "markdown",
   "id": "3ddf6dd1-be37-479a-b02c-e10680745b1c",
   "metadata": {},
   "source": [
    "### Write some data and *commit*, requires opening a *writable Session*"
   ]
  },
  {
   "cell_type": "code",
   "execution_count": 3,
   "id": "6e86de40-ab0f-4563-a452-63ebaa8001ea",
   "metadata": {},
   "outputs": [
    {
     "data": {
      "text/plain": [
       "Groups created:\n",
       "    /\n",
       "\n",
       "Arrays created:\n",
       "    /array1\n",
       "\n",
       "User attributes updated:\n",
       "    /\n",
       "    /array1\n",
       "\n",
       "Chunks updated:\n",
       "    /array1:\n",
       "        [0]\n",
       "        [1]\n",
       "        [2]\n",
       "        [3]\n",
       "        [4]\n",
       "        [5]\n",
       "        [6]\n",
       "        [7]\n",
       "        [8]\n",
       "        [9]"
      ]
     },
     "execution_count": 3,
     "metadata": {},
     "output_type": "execute_result"
    }
   ],
   "source": [
    "session = repo.writable_session(\"main\")\n",
    "store = session.store # A Zarr Store\n",
    "\n",
    "group = zarr.group(store, zarr_format=3)\n",
    "group.attrs['title'] = \"My amazing dataset!\"\n",
    "array = group.create_array(\"array1\", shape=10_000_000, chunks=1_000_000, dtype='i4')\n",
    "array[:] = np.arange(10_000_000)\n",
    "\n",
    "session.status()"
   ]
  },
  {
   "cell_type": "code",
   "execution_count": 4,
   "id": "ad7ae7bb-4f45-4886-909f-d01beb116a5c",
   "metadata": {},
   "outputs": [
    {
     "data": {
      "text/plain": [
       "'SMNR3FM3NTPGA2G97HZ0'"
      ]
     },
     "execution_count": 4,
     "metadata": {},
     "output_type": "execute_result"
    }
   ],
   "source": [
    "cid = session.commit(\"wrote initial data\")\n",
    "cid # snapshot ID"
   ]
  },
  {
   "cell_type": "markdown",
   "id": "ec2942bc-0724-4fa2-a923-aacbcfcba146",
   "metadata": {},
   "source": [
    "Making more changes requires a new session and re-opening the array."
   ]
  },
  {
   "cell_type": "code",
   "execution_count": 5,
   "id": "e887c4c7-a176-488f-8f4a-a2411d4d8863",
   "metadata": {},
   "outputs": [
    {
     "data": {
      "text/plain": [
       "<Array <icechunk.store.IcechunkStore object at 0x7f6ec411bed0>/array1 shape=(10000000,) dtype=int32>"
      ]
     },
     "execution_count": 5,
     "metadata": {},
     "output_type": "execute_result"
    }
   ],
   "source": [
    "session = repo.writable_session(\"main\")\n",
    "array = zarr.open_array(store=session.store, path=\"array1\")\n",
    "array"
   ]
  },
  {
   "cell_type": "code",
   "execution_count": 6,
   "id": "d83490ae-eada-4569-9739-524be8e5a01f",
   "metadata": {},
   "outputs": [
    {
     "data": {
      "text/plain": [
       "Zarr metadata updated:\n",
       "    /array1\n",
       "\n",
       "Chunks updated:\n",
       "    /array1:\n",
       "        [10]\n",
       "        [11]"
      ]
     },
     "execution_count": 6,
     "metadata": {},
     "output_type": "execute_result"
    }
   ],
   "source": [
    "array.append(np.random.rand(2_000_000))\n",
    "session.status()"
   ]
  },
  {
   "cell_type": "code",
   "execution_count": 7,
   "id": "0fc8577a-afe2-48b4-abae-e389a7fc7e24",
   "metadata": {},
   "outputs": [
    {
     "data": {
      "text/plain": []
     },
     "execution_count": 7,
     "metadata": {},
     "output_type": "execute_result"
    }
   ],
   "source": [
    "session.discard_changes()\n",
    "session.status()"
   ]
  },
  {
   "cell_type": "code",
   "execution_count": 8,
   "id": "5563f294-22d4-41ef-8d08-1f3d45747fd0",
   "metadata": {},
   "outputs": [
    {
     "data": {
      "text/plain": [
       "Zarr metadata updated:\n",
       "    /array1\n",
       "\n",
       "Chunks updated:\n",
       "    /array1:\n",
       "        [12]\n",
       "        [13]\n",
       "        [14]"
      ]
     },
     "execution_count": 8,
     "metadata": {},
     "output_type": "execute_result"
    }
   ],
   "source": [
    "array.append(np.random.randint(999, size=3_000_000))\n",
    "session.status()"
   ]
  },
  {
   "cell_type": "code",
   "execution_count": 9,
   "id": "248186c8-2672-4089-971f-d030940be0f7",
   "metadata": {},
   "outputs": [
    {
     "data": {
      "text/plain": [
       "'P21CT7704W1N2M2ABVPG'"
      ]
     },
     "execution_count": 9,
     "metadata": {},
     "output_type": "execute_result"
    }
   ],
   "source": [
    "session.commit(\"appended data\")"
   ]
  },
  {
   "cell_type": "code",
   "execution_count": 10,
   "id": "85775d56-4170-47d3-822e-581da6078426",
   "metadata": {},
   "outputs": [
    {
     "data": {
      "text/plain": [
       "[SnapshotInfo(id=\"P21CT7704W1N2M2ABVPG\", parent_id=\"SMNR3FM3NTPGA2G97HZ0\", written_at=datetime.datetime(2025,2,18,18,32,17,279791, tzinfo=datetime.timezone.utc), message=\"appended d...\"),\n",
       " SnapshotInfo(id=\"SMNR3FM3NTPGA2G97HZ0\", parent_id=\"NJZ9FCPQW8ZS0AHSQVDG\", written_at=datetime.datetime(2025,2,18,18,30,32,889718, tzinfo=datetime.timezone.utc), message=\"wrote init...\"),\n",
       " SnapshotInfo(id=\"NJZ9FCPQW8ZS0AHSQVDG\", parent_id=None, written_at=datetime.datetime(2025,2,18,18,28,47,126396, tzinfo=datetime.timezone.utc), message=\"Repository...\")]"
      ]
     },
     "execution_count": 10,
     "metadata": {},
     "output_type": "execute_result"
    }
   ],
   "source": [
    "repo.ancestry(branch=\"main\")"
   ]
  },
  {
   "cell_type": "markdown",
   "id": "e679a006-8596-406a-a119-8ad1595b78a7",
   "metadata": {},
   "source": [
    "### Create tags and branches"
   ]
  },
  {
   "cell_type": "code",
   "execution_count": 11,
   "id": "6e806a70-398b-4a6a-a206-a451f5986f64",
   "metadata": {},
   "outputs": [],
   "source": [
    "# create tag referencing old commit\n",
    "repo.create_tag(\"v1.0\", snapshot_id=cid)"
   ]
  },
  {
   "cell_type": "code",
   "execution_count": 12,
   "id": "a2d10560-5a3c-439e-93c8-9d5308d0c1d0",
   "metadata": {},
   "outputs": [],
   "source": [
    "# create new branch off of main\n",
    "repo.create_branch(\"dev\", snapshot_id=repo.lookup_branch(\"main\"))"
   ]
  },
  {
   "cell_type": "code",
   "execution_count": 13,
   "id": "091c7169-f78b-4392-af4d-b474fe5f5f1e",
   "metadata": {},
   "outputs": [
    {
     "data": {
      "text/plain": [
       "{'dev', 'main'}"
      ]
     },
     "execution_count": 13,
     "metadata": {},
     "output_type": "execute_result"
    }
   ],
   "source": [
    "repo.list_branches()"
   ]
  },
  {
   "cell_type": "code",
   "execution_count": 14,
   "id": "c39e57d5-a52e-4aa2-ac2d-8ac48ebb280e",
   "metadata": {},
   "outputs": [
    {
     "data": {
      "text/plain": [
       "{'v1.0'}"
      ]
     },
     "execution_count": 14,
     "metadata": {},
     "output_type": "execute_result"
    }
   ],
   "source": [
    "repo.list_tags()"
   ]
  },
  {
   "cell_type": "code",
   "execution_count": 15,
   "id": "d6d6b552-fa09-4c84-bb4a-17da758cab5b",
   "metadata": {},
   "outputs": [
    {
     "data": {
      "text/plain": [
       "Zarr metadata updated:\n",
       "    /array1\n",
       "\n",
       "Chunks updated:\n",
       "    /array1:\n",
       "        [12]\n",
       "        [13]\n",
       "        [14]"
      ]
     },
     "execution_count": 15,
     "metadata": {},
     "output_type": "execute_result"
    }
   ],
   "source": [
    "repo.diff(from_tag=\"v1.0\", to_branch=\"main\")"
   ]
  },
  {
   "cell_type": "code",
   "execution_count": 16,
   "id": "b4dcdd79-62ad-4e65-adcc-7e45877c652d",
   "metadata": {},
   "outputs": [
    {
     "data": {
      "text/plain": [
       "('P21CT7704W1N2M2ABVPG', 'P21CT7704W1N2M2ABVPG')"
      ]
     },
     "execution_count": 16,
     "metadata": {},
     "output_type": "execute_result"
    }
   ],
   "source": [
    "repo.lookup_branch(\"main\"), repo.lookup_branch(\"dev\")"
   ]
  },
  {
   "cell_type": "markdown",
   "id": "3fe0ad3d-0a4f-45b0-b402-f5b979cac37c",
   "metadata": {},
   "source": [
    "### Modify the `dev` branch"
   ]
  },
  {
   "cell_type": "code",
   "execution_count": 17,
   "id": "872f775f-9cad-44d0-8c09-d221e6b7415a",
   "metadata": {},
   "outputs": [
    {
     "data": {
      "text/plain": [
       "Chunks updated:\n",
       "    /array1:\n",
       "        [10]\n",
       "        [11]\n",
       "        [12]\n",
       "        [13]\n",
       "        [14]"
      ]
     },
     "execution_count": 17,
     "metadata": {},
     "output_type": "execute_result"
    }
   ],
   "source": [
    "session = repo.writable_session(\"dev\")\n",
    "array = zarr.open_array(session.store, path=\"array1\")\n",
    "array[-5_000_000:] = -1\n",
    "session.status()"
   ]
  },
  {
   "cell_type": "code",
   "execution_count": 18,
   "id": "469ee377-d168-4307-8419-c830248ed98d",
   "metadata": {},
   "outputs": [
    {
     "data": {
      "text/plain": [
       "'VK9629ZB7CFKTKTZM63G'"
      ]
     },
     "execution_count": 18,
     "metadata": {},
     "output_type": "execute_result"
    }
   ],
   "source": [
    "session.commit(\"set some data to -1\")"
   ]
  },
  {
   "cell_type": "markdown",
   "id": "be4e2246-9a55-4308-9f6c-aadb467ab9ae",
   "metadata": {},
   "source": [
    "### Switch between branches using *read-only Sessions*"
   ]
  },
  {
   "cell_type": "code",
   "execution_count": 19,
   "id": "74ee2531-6857-460d-9c26-a6dff111e144",
   "metadata": {},
   "outputs": [
    {
     "data": {
      "text/plain": [
       "array(873, dtype=int32)"
      ]
     },
     "execution_count": 19,
     "metadata": {},
     "output_type": "execute_result"
    }
   ],
   "source": [
    "zarr.open_array(repo.readonly_session(branch=\"main\").store, path=\"array1\")[-1]"
   ]
  },
  {
   "cell_type": "code",
   "execution_count": 20,
   "id": "a3497171-f0a5-4b78-a3ae-e3fce3fe27a6",
   "metadata": {},
   "outputs": [
    {
     "data": {
      "text/plain": [
       "array(9999999, dtype=int32)"
      ]
     },
     "execution_count": 20,
     "metadata": {},
     "output_type": "execute_result"
    }
   ],
   "source": [
    "zarr.open_array(repo.readonly_session(tag=\"v1.0\").store, path=\"array1\")[-1]"
   ]
  },
  {
   "cell_type": "code",
   "execution_count": 21,
   "id": "a52b7cb6-4af9-4d27-ab4b-142ac1244981",
   "metadata": {},
   "outputs": [
    {
     "data": {
      "text/plain": [
       "array(-1, dtype=int32)"
      ]
     },
     "execution_count": 21,
     "metadata": {},
     "output_type": "execute_result"
    }
   ],
   "source": [
    "zarr.open_array(repo.readonly_session(branch=\"dev\").store, path=\"array1\")[-1]"
   ]
  },
  {
   "cell_type": "markdown",
   "id": "7f24a872-29e8-49c6-9271-4bdd01d3d288",
   "metadata": {},
   "source": [
    "### Bring `main` up to date"
   ]
  },
  {
   "cell_type": "code",
   "execution_count": 22,
   "id": "b12c88ab-c7ba-47fb-b8ee-28880f2d3908",
   "metadata": {},
   "outputs": [],
   "source": [
    "repo.reset_branch(\"main\", repo.lookup_branch(\"dev\"))"
   ]
  },
  {
   "cell_type": "markdown",
   "id": "0c22313d-e8fa-4add-84dd-f338f7088e6c",
   "metadata": {},
   "source": [
    "## Conflict Detection"
   ]
  },
  {
   "cell_type": "markdown",
   "id": "3bb4dca4-3197-409d-80b0-bc2bd29db206",
   "metadata": {},
   "source": [
    "### Concurrent updates with no conflicts"
   ]
  },
  {
   "cell_type": "code",
   "execution_count": 23,
   "id": "c70a73a7-3360-4155-8203-94bdd13cab67",
   "metadata": {},
   "outputs": [],
   "source": [
    "session_A = repo.writable_session(\"main\")\n",
    "array_A = zarr.open_array(session_A.store, path=\"array1\")\n",
    "\n",
    "session_B = repo.writable_session(\"main\")\n",
    "array_B = zarr.open_array(session_B.store, path=\"array1\")\n",
    "\n",
    "array_A[0] = 42\n",
    "array_B[-1] = -42"
   ]
  },
  {
   "cell_type": "code",
   "execution_count": 26,
   "id": "23a85dd7-9405-4ba5-9404-81f72ba77889",
   "metadata": {},
   "outputs": [
    {
     "data": {
      "text/plain": [
       "'QVFBBHZ4RJNDHEXVPM8G'"
      ]
     },
     "execution_count": 26,
     "metadata": {},
     "output_type": "execute_result"
    }
   ],
   "source": [
    "session_A.commit(\"wrote first element\")"
   ]
  },
  {
   "cell_type": "code",
   "execution_count": 27,
   "id": "65e2a0a3-674e-4d83-a365-6e7bbd96a2d9",
   "metadata": {},
   "outputs": [
    {
     "ename": "ConflictError",
     "evalue": "Failed to commit, expected parent: Some(\"VK9629ZB7CFKTKTZM63G\"), actual parent: Some(\"QVFBBHZ4RJNDHEXVPM8G\")",
     "output_type": "error",
     "traceback": [
      "\u001b[0;31m---------------------------------------------------------------------------\u001b[0m",
      "\u001b[0;31mConflictError\u001b[0m                             Traceback (most recent call last)",
      "Cell \u001b[0;32mIn[27], line 1\u001b[0m\n\u001b[0;32m----> 1\u001b[0m \u001b[43msession_B\u001b[49m\u001b[38;5;241;43m.\u001b[39;49m\u001b[43mcommit\u001b[49m\u001b[43m(\u001b[49m\u001b[38;5;124;43m\"\u001b[39;49m\u001b[38;5;124;43mwrote last element\u001b[39;49m\u001b[38;5;124;43m\"\u001b[39;49m\u001b[43m)\u001b[49m\n",
      "File \u001b[0;32m/srv/conda/envs/pyqg/lib/python3.11/site-packages/icechunk/session.py:276\u001b[0m, in \u001b[0;36mSession.commit\u001b[0;34m(self, message, metadata)\u001b[0m\n\u001b[1;32m    274\u001b[0m     \u001b[38;5;28;01mreturn\u001b[39;00m \u001b[38;5;28mself\u001b[39m\u001b[38;5;241m.\u001b[39m_session\u001b[38;5;241m.\u001b[39mcommit(message, metadata)\n\u001b[1;32m    275\u001b[0m \u001b[38;5;28;01mexcept\u001b[39;00m PyConflictError \u001b[38;5;28;01mas\u001b[39;00m e:\n\u001b[0;32m--> 276\u001b[0m     \u001b[38;5;28;01mraise\u001b[39;00m ConflictError(e) \u001b[38;5;28;01mfrom\u001b[39;00m\u001b[38;5;250m \u001b[39m\u001b[38;5;28;01mNone\u001b[39;00m\n",
      "\u001b[0;31mConflictError\u001b[0m: Failed to commit, expected parent: Some(\"VK9629ZB7CFKTKTZM63G\"), actual parent: Some(\"QVFBBHZ4RJNDHEXVPM8G\")"
     ]
    }
   ],
   "source": [
    "session_B.commit(\"wrote last element\")"
   ]
  },
  {
   "cell_type": "code",
   "execution_count": 28,
   "id": "958cd3d4-88ac-459e-8475-699545c671de",
   "metadata": {},
   "outputs": [
    {
     "data": {
      "text/plain": [
       "'JFRN89GWSGR4RY08SRZG'"
      ]
     },
     "execution_count": 28,
     "metadata": {},
     "output_type": "execute_result"
    }
   ],
   "source": [
    "session_B.rebase(ic.ConflictDetector())\n",
    "session_B.commit(\"rebased and merged\")"
   ]
  },
  {
   "cell_type": "code",
   "execution_count": 29,
   "id": "423f68d0-36f5-4127-9d83-7ffdd8e29982",
   "metadata": {},
   "outputs": [
    {
     "data": {
      "text/plain": [
       "[SnapshotInfo(id=\"JFRN89GWSGR4RY08SRZG\", parent_id=\"QVFBBHZ4RJNDHEXVPM8G\", written_at=datetime.datetime(2025,2,18,18,39,40,364178, tzinfo=datetime.timezone.utc), message=\"rebased an...\"),\n",
       " SnapshotInfo(id=\"QVFBBHZ4RJNDHEXVPM8G\", parent_id=\"VK9629ZB7CFKTKTZM63G\", written_at=datetime.datetime(2025,2,18,18,38,19,605025, tzinfo=datetime.timezone.utc), message=\"wrote firs...\"),\n",
       " SnapshotInfo(id=\"VK9629ZB7CFKTKTZM63G\", parent_id=\"P21CT7704W1N2M2ABVPG\", written_at=datetime.datetime(2025,2,18,18,34,39,676402, tzinfo=datetime.timezone.utc), message=\"set some d...\"),\n",
       " SnapshotInfo(id=\"P21CT7704W1N2M2ABVPG\", parent_id=\"SMNR3FM3NTPGA2G97HZ0\", written_at=datetime.datetime(2025,2,18,18,32,17,279791, tzinfo=datetime.timezone.utc), message=\"appended d...\"),\n",
       " SnapshotInfo(id=\"SMNR3FM3NTPGA2G97HZ0\", parent_id=\"NJZ9FCPQW8ZS0AHSQVDG\", written_at=datetime.datetime(2025,2,18,18,30,32,889718, tzinfo=datetime.timezone.utc), message=\"wrote init...\"),\n",
       " SnapshotInfo(id=\"NJZ9FCPQW8ZS0AHSQVDG\", parent_id=None, written_at=datetime.datetime(2025,2,18,18,28,47,126396, tzinfo=datetime.timezone.utc), message=\"Repository...\")]"
      ]
     },
     "execution_count": 29,
     "metadata": {},
     "output_type": "execute_result"
    }
   ],
   "source": [
    "repo.ancestry(branch=\"main\")"
   ]
  },
  {
   "cell_type": "markdown",
   "id": "f1835b70-7a1b-47c3-aafd-7fa20ef10f20",
   "metadata": {},
   "source": [
    "### Concurrent updates _with_ conflicts"
   ]
  },
  {
   "cell_type": "code",
   "execution_count": 30,
   "id": "0166926b-9273-4e16-bf21-c181370a1549",
   "metadata": {},
   "outputs": [],
   "source": [
    "session_A = repo.writable_session(\"main\")\n",
    "array_A = zarr.open_array(session_A.store, path=\"array1\")\n",
    "\n",
    "session_B = repo.writable_session(\"main\")\n",
    "array_B = zarr.open_array(session_B.store, path=\"array1\")\n",
    "\n",
    "array_A[999_999] = 42\n",
    "array_B[999_999] = -42"
   ]
  },
  {
   "cell_type": "code",
   "execution_count": 31,
   "id": "b12592af-b142-47ea-8afe-6774aa53dd2a",
   "metadata": {},
   "outputs": [
    {
     "ename": "ConflictError",
     "evalue": "Failed to commit, expected parent: Some(\"JFRN89GWSGR4RY08SRZG\"), actual parent: Some(\"K241WBRCD0T4Y698C6JG\")",
     "output_type": "error",
     "traceback": [
      "\u001b[0;31m---------------------------------------------------------------------------\u001b[0m",
      "\u001b[0;31mConflictError\u001b[0m                             Traceback (most recent call last)",
      "Cell \u001b[0;32mIn[31], line 2\u001b[0m\n\u001b[1;32m      1\u001b[0m session_A\u001b[38;5;241m.\u001b[39mcommit(\u001b[38;5;124m\"\u001b[39m\u001b[38;5;124mwrote from A\u001b[39m\u001b[38;5;124m\"\u001b[39m)\n\u001b[0;32m----> 2\u001b[0m \u001b[43msession_B\u001b[49m\u001b[38;5;241;43m.\u001b[39;49m\u001b[43mcommit\u001b[49m\u001b[43m(\u001b[49m\u001b[38;5;124;43m\"\u001b[39;49m\u001b[38;5;124;43mwrote from B\u001b[39;49m\u001b[38;5;124;43m\"\u001b[39;49m\u001b[43m)\u001b[49m\n",
      "File \u001b[0;32m/srv/conda/envs/pyqg/lib/python3.11/site-packages/icechunk/session.py:276\u001b[0m, in \u001b[0;36mSession.commit\u001b[0;34m(self, message, metadata)\u001b[0m\n\u001b[1;32m    274\u001b[0m     \u001b[38;5;28;01mreturn\u001b[39;00m \u001b[38;5;28mself\u001b[39m\u001b[38;5;241m.\u001b[39m_session\u001b[38;5;241m.\u001b[39mcommit(message, metadata)\n\u001b[1;32m    275\u001b[0m \u001b[38;5;28;01mexcept\u001b[39;00m PyConflictError \u001b[38;5;28;01mas\u001b[39;00m e:\n\u001b[0;32m--> 276\u001b[0m     \u001b[38;5;28;01mraise\u001b[39;00m ConflictError(e) \u001b[38;5;28;01mfrom\u001b[39;00m\u001b[38;5;250m \u001b[39m\u001b[38;5;28;01mNone\u001b[39;00m\n",
      "\u001b[0;31mConflictError\u001b[0m: Failed to commit, expected parent: Some(\"JFRN89GWSGR4RY08SRZG\"), actual parent: Some(\"K241WBRCD0T4Y698C6JG\")"
     ]
    }
   ],
   "source": [
    "session_A.commit(\"wrote from A\")\n",
    "session_B.commit(\"wrote from B\")"
   ]
  },
  {
   "cell_type": "code",
   "execution_count": 32,
   "id": "f7fcdaab-3b7e-46a1-b938-1c7e06f10d3a",
   "metadata": {},
   "outputs": [
    {
     "name": "stdout",
     "output_type": "stream",
     "text": [
      "[Conflict(ChunkDoubleUpdate, path=/array1)]\n"
     ]
    }
   ],
   "source": [
    "try:\n",
    "    session_B.rebase(ic.ConflictDetector())\n",
    "except ic.RebaseFailedError as e:\n",
    "    print(e.conflicts)"
   ]
  },
  {
   "cell_type": "code",
   "execution_count": 33,
   "id": "cd794358-8083-48af-9562-cc93ea693676",
   "metadata": {},
   "outputs": [
    {
     "data": {
      "text/plain": [
       "'G4WJSNP1M4AP77EEAY6G'"
      ]
     },
     "execution_count": 33,
     "metadata": {},
     "output_type": "execute_result"
    }
   ],
   "source": [
    "session_B.rebase(ic.BasicConflictSolver(on_chunk_conflict=ic.VersionSelection.UseOurs))\n",
    "session_B.commit(\"commited from B, overwriting A\")"
   ]
  },
  {
   "cell_type": "code",
   "execution_count": 34,
   "id": "05a44dc9-d21e-4052-8601-36e0e53966cc",
   "metadata": {},
   "outputs": [
    {
     "data": {
      "text/plain": [
       "array(-42, dtype=int32)"
      ]
     },
     "execution_count": 34,
     "metadata": {},
     "output_type": "execute_result"
    }
   ],
   "source": [
    "zarr.open_array(repo.readonly_session(branch=\"main\").store, path=\"array1\")[999_999]"
   ]
  },
  {
   "cell_type": "markdown",
   "id": "76725c01-f34b-4901-9c28-194b450096f1",
   "metadata": {},
   "source": [
    "## Clean up repo"
   ]
  },
  {
   "cell_type": "code",
   "execution_count": 35,
   "id": "dac96854-3aae-4edd-9c71-36ff8ac38e76",
   "metadata": {},
   "outputs": [],
   "source": [
    "repo.delete_branch(\"dev\")\n",
    "repo.delete_tag(\"v1.0\")"
   ]
  },
  {
   "cell_type": "code",
   "execution_count": 36,
   "id": "4ac4a1cf-9ebf-4ae0-b2b6-f0b184744557",
   "metadata": {},
   "outputs": [
    {
     "data": {
      "text/plain": [
       "[SnapshotInfo(id=\"G4WJSNP1M4AP77EEAY6G\", parent_id=\"K241WBRCD0T4Y698C6JG\", written_at=datetime.datetime(2025,2,18,18,41,31,934556, tzinfo=datetime.timezone.utc), message=\"commited f...\"),\n",
       " SnapshotInfo(id=\"K241WBRCD0T4Y698C6JG\", parent_id=\"JFRN89GWSGR4RY08SRZG\", written_at=datetime.datetime(2025,2,18,18,40,42,983156, tzinfo=datetime.timezone.utc), message=\"wrote from...\"),\n",
       " SnapshotInfo(id=\"JFRN89GWSGR4RY08SRZG\", parent_id=\"QVFBBHZ4RJNDHEXVPM8G\", written_at=datetime.datetime(2025,2,18,18,39,40,364178, tzinfo=datetime.timezone.utc), message=\"rebased an...\"),\n",
       " SnapshotInfo(id=\"QVFBBHZ4RJNDHEXVPM8G\", parent_id=\"VK9629ZB7CFKTKTZM63G\", written_at=datetime.datetime(2025,2,18,18,38,19,605025, tzinfo=datetime.timezone.utc), message=\"wrote firs...\"),\n",
       " SnapshotInfo(id=\"VK9629ZB7CFKTKTZM63G\", parent_id=\"P21CT7704W1N2M2ABVPG\", written_at=datetime.datetime(2025,2,18,18,34,39,676402, tzinfo=datetime.timezone.utc), message=\"set some d...\"),\n",
       " SnapshotInfo(id=\"P21CT7704W1N2M2ABVPG\", parent_id=\"SMNR3FM3NTPGA2G97HZ0\", written_at=datetime.datetime(2025,2,18,18,32,17,279791, tzinfo=datetime.timezone.utc), message=\"appended d...\"),\n",
       " SnapshotInfo(id=\"SMNR3FM3NTPGA2G97HZ0\", parent_id=\"NJZ9FCPQW8ZS0AHSQVDG\", written_at=datetime.datetime(2025,2,18,18,30,32,889718, tzinfo=datetime.timezone.utc), message=\"wrote init...\"),\n",
       " SnapshotInfo(id=\"NJZ9FCPQW8ZS0AHSQVDG\", parent_id=None, written_at=datetime.datetime(2025,2,18,18,28,47,126396, tzinfo=datetime.timezone.utc), message=\"Repository...\")]"
      ]
     },
     "execution_count": 36,
     "metadata": {},
     "output_type": "execute_result"
    }
   ],
   "source": [
    "anc = repo.ancestry(branch=\"main\")\n",
    "anc"
   ]
  },
  {
   "cell_type": "code",
   "execution_count": 37,
   "id": "569018ad-bb94-444e-b0d8-9d931978f09b",
   "metadata": {},
   "outputs": [
    {
     "data": {
      "text/plain": [
       "datetime.datetime(2025, 2, 18, 18, 41, 31, 934556, tzinfo=datetime.timezone.utc)"
      ]
     },
     "execution_count": 37,
     "metadata": {},
     "output_type": "execute_result"
    }
   ],
   "source": [
    "latest_time = anc[0].written_at\n",
    "latest_time"
   ]
  },
  {
   "cell_type": "code",
   "execution_count": 38,
   "id": "e41e3b76-19cc-44a2-bb53-7e00da70a4da",
   "metadata": {},
   "outputs": [
    {
     "data": {
      "text/plain": [
       "{'JFRN89GWSGR4RY08SRZG',\n",
       " 'K241WBRCD0T4Y698C6JG',\n",
       " 'P21CT7704W1N2M2ABVPG',\n",
       " 'QVFBBHZ4RJNDHEXVPM8G',\n",
       " 'SMNR3FM3NTPGA2G97HZ0',\n",
       " 'VK9629ZB7CFKTKTZM63G'}"
      ]
     },
     "execution_count": 38,
     "metadata": {},
     "output_type": "execute_result"
    }
   ],
   "source": [
    "exp = repo.expire_snapshots(anc[0].written_at)\n",
    "exp"
   ]
  },
  {
   "cell_type": "code",
   "execution_count": 39,
   "id": "b1d46468-27d6-4462-9a44-09b322167f4e",
   "metadata": {},
   "outputs": [
    {
     "data": {
      "text/plain": [
       "[SnapshotInfo(id=\"G4WJSNP1M4AP77EEAY6G\", parent_id=\"NJZ9FCPQW8ZS0AHSQVDG\", written_at=datetime.datetime(2025,2,18,18,41,31,934556, tzinfo=datetime.timezone.utc), message=\"commited f...\"),\n",
       " SnapshotInfo(id=\"NJZ9FCPQW8ZS0AHSQVDG\", parent_id=None, written_at=datetime.datetime(2025,2,18,18,28,47,126396, tzinfo=datetime.timezone.utc), message=\"Repository...\")]"
      ]
     },
     "execution_count": 39,
     "metadata": {},
     "output_type": "execute_result"
    }
   ],
   "source": [
    "repo.ancestry(branch=\"main\")"
   ]
  },
  {
   "cell_type": "code",
   "execution_count": 40,
   "id": "b95f8eac-c4e9-44ba-9d91-9c342bbb88b6",
   "metadata": {},
   "outputs": [
    {
     "data": {
      "text/plain": [
       "(6, 6)"
      ]
     },
     "execution_count": 40,
     "metadata": {},
     "output_type": "execute_result"
    }
   ],
   "source": [
    "gc = repo.garbage_collect(anc[0].written_at)\n",
    "gc.snapshots_deleted, gc.chunks_deleted"
   ]
  },
  {
   "cell_type": "code",
   "execution_count": 41,
   "id": "b3266418-953f-4fa6-ad2e-63e0b2d42564",
   "metadata": {},
   "outputs": [
    {
     "name": "stdout",
     "output_type": "stream",
     "text": [
      "2025-02-18 18:29:18    2716732 dvc-webinar/version-control-demo/chunks/3ERM7XNT3CHXGPK65VQ0\n",
      "2025-02-18 18:29:18    2763398 dvc-webinar/version-control-demo/chunks/61ME72TR8QH2R2ND7CX0\n",
      "2025-02-18 18:29:18    2761085 dvc-webinar/version-control-demo/chunks/8VASPD5S9R5PRYZT9HEG\n",
      "2025-02-18 18:29:18    2725613 dvc-webinar/version-control-demo/chunks/E12CE25CQ80X27AD7N0G\n",
      "2025-02-18 18:29:18    2765134 dvc-webinar/version-control-demo/chunks/GGXJ91G93CRADND4YAKG\n",
      "2025-02-18 18:29:18    2739797 dvc-webinar/version-control-demo/chunks/HEVN87Z735EX4W7QG6MG\n",
      "2025-02-18 18:29:18    2762001 dvc-webinar/version-control-demo/chunks/HK81PN8P2SBC3BJ1G0PG\n",
      "2025-02-18 18:40:21    2687620 dvc-webinar/version-control-demo/chunks/N5YY04Z03ZCHHEXE41VG\n",
      "2025-02-18 18:29:18    2761795 dvc-webinar/version-control-demo/chunks/PDCFVMPHZS0AEF3CBQSG\n",
      "2025-02-18 18:29:18    2733578 dvc-webinar/version-control-demo/chunks/S5XNQAHS53G45165BKD0\n",
      "2025-02-18 18:41:32        383 dvc-webinar/version-control-demo/manifests/XS8EZ7CMSHC10ADF5DY0\n",
      "2025-02-18 18:41:33         35 dvc-webinar/version-control-demo/refs/branch.main/ZZZZZZZR.json\n",
      "2025-02-18 18:40:44         35 dvc-webinar/version-control-demo/refs/branch.main/ZZZZZZZS.json\n",
      "2025-02-18 18:39:41         35 dvc-webinar/version-control-demo/refs/branch.main/ZZZZZZZT.json\n",
      "2025-02-18 18:38:20         35 dvc-webinar/version-control-demo/refs/branch.main/ZZZZZZZV.json\n",
      "2025-02-18 18:35:25         35 dvc-webinar/version-control-demo/refs/branch.main/ZZZZZZZW.json\n",
      "2025-02-18 18:32:18         35 dvc-webinar/version-control-demo/refs/branch.main/ZZZZZZZX.json\n",
      "2025-02-18 18:30:33         35 dvc-webinar/version-control-demo/refs/branch.main/ZZZZZZZY.json\n",
      "2025-02-18 18:28:48         35 dvc-webinar/version-control-demo/refs/branch.main/ZZZZZZZZ.json\n",
      "2025-02-18 18:33:07         35 dvc-webinar/version-control-demo/refs/tag.v1.0/ref.json\n",
      "2025-02-18 18:42:36          0 dvc-webinar/version-control-demo/refs/tag.v1.0/ref.json.deleted\n",
      "2025-02-18 18:42:56        359 dvc-webinar/version-control-demo/snapshots/G4WJSNP1M4AP77EEAY6G\n",
      "2025-02-18 18:28:48        132 dvc-webinar/version-control-demo/snapshots/NJZ9FCPQW8ZS0AHSQVDG\n",
      "2025-02-18 18:41:32         71 dvc-webinar/version-control-demo/transactions/G4WJSNP1M4AP77EEAY6G\n"
     ]
    }
   ],
   "source": [
    "! aws s3 ls --recursive s3://icechunk-test/dvc-webinar/version-control-demo"
   ]
  },
  {
   "cell_type": "code",
   "execution_count": null,
   "id": "8f2fb993-9de5-4c8b-a206-fdbc9e641bff",
   "metadata": {},
   "outputs": [],
   "source": [
    "! aws s3 rm --recursive s3://icechunk-test/dvc-webinar/version-control-demo"
   ]
  },
  {
   "cell_type": "code",
   "execution_count": null,
   "id": "fa9f43e9-950b-4d08-85d5-a8614fb09017",
   "metadata": {},
   "outputs": [],
   "source": []
  }
 ],
 "metadata": {
  "kernelspec": {
   "display_name": "Python 3 (ipykernel)",
   "language": "python",
   "name": "python3"
  },
  "language_info": {
   "codemirror_mode": {
    "name": "ipython",
    "version": 3
   },
   "file_extension": ".py",
   "mimetype": "text/x-python",
   "name": "python",
   "nbconvert_exporter": "python",
   "pygments_lexer": "ipython3",
   "version": "3.12.4"
  }
 },
 "nbformat": 4,
 "nbformat_minor": 5
}
